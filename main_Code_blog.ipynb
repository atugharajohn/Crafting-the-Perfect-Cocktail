{
 "cells": [
  {
   "cell_type": "markdown",
   "metadata": {},
   "source": [
    "## Model Implementation and validation Code:\n",
    "\n",
    "### Import Necessary Libraries"
   ]
  },
  {
   "cell_type": "code",
   "execution_count": null,
   "metadata": {},
   "outputs": [],
   "source": [
    "import numpy as np\n",
    "import pandas as pd\n",
    "import matplotlib.pyplot as plt\n",
    "from sklearn import preprocessing\n",
    "from sklearn.preprocessing import StandardScaler\n",
    "from sklearn.model_selection import train_test_split\n",
    "import seaborn as sns\n",
    "from keras.layers import Dense, BatchNormalization, Dropout\n",
    "from keras.models import Sequential\n",
    "from keras.utils import to_categorical\n",
    "from sklearn.metrics import precision_score, recall_score, confusion_matrix, classification_report, accuracy_score, f1_score"
   ]
  },
  {
   "cell_type": "markdown",
   "metadata": {},
   "source": [
    "## Performing Exploratory Analysis: \n",
    "It's important to explore the data and do basic analysis to understand the characteristic and form opinion / understanding of the data\n",
    "\n",
    "### Data Structure:"
   ]
  },
  {
   "cell_type": "code",
   "execution_count": null,
   "metadata": {},
   "outputs": [],
   "source": [
    "#Evaluating age distribution\n",
    "plt.figure(figsize=(20,12))\n",
    "#colors =[\"#774571\",\"#b398af\",\"#f1f1f1\" ,\"#afcdc7\", \"#6daa9f\"]\n",
    "Days_of_week=sns.countplot(x=data['age'],data=data, hue =\"DEATH_EVENT\",palette = cols)\n",
    "Days_of_week.set_title(\"Distribution Of Age\", color=\"#774571\")"
   ]
  },
  {
   "cell_type": "markdown",
   "metadata": {},
   "source": [
    "![image19.png](attachment:image19.png)</br>\n",
    "### Outlier Analysis\n",
    "Now we look for outliers using boxplot if any outlier found there should be remove that outlier."
   ]
  },
  {
   "cell_type": "code",
   "execution_count": null,
   "metadata": {},
   "outputs": [],
   "source": [
    "# Boxen and swarm plot of some non binary features.\n",
    "feature = [\"age\",\"creatinine_phosphokinase\",\"ejection_fraction\",\"platelets\",\"serum_creatinine\",\"serum_sodium\", \"time\"]\n",
    "for i in feature:\n",
    "    plt.figure(figsize=(8,8))\n",
    "    sns.swarmplot(x=data[\"DEATH_EVENT\"], y=data[i], color=\"black\", alpha=0.5)\n",
    "    sns.boxenplot(x=data[\"DEATH_EVENT\"], y=data[i], palette=cols)\n",
    "    plt.show()"
   ]
  },
  {
   "cell_type": "markdown",
   "metadata": {},
   "source": [
    "![image11.png](attachment:image11.png) ![image14.png](attachment:image14.png) ![image16.png](attachment:image16.png) ![image8.png](attachment:image8.png)</br>\n",
    "<b>Outliers: Individual points beyond the interquartile range can be identified as outliers.</b>"
   ]
  },
  {
   "cell_type": "code",
   "execution_count": null,
   "metadata": {},
   "outputs": [],
   "source": [
    "sns.kdeplot(x=data[\"age\"], y=None, hue =data[\"DEATH_EVENT\"], palette=cols)"
   ]
  },
  {
   "cell_type": "markdown",
   "metadata": {},
   "source": [
    "![image12.png](attachment:image12.png)</br>\n",
    "- This KDE plot visualizes the distribution of death events, highlighting the age at which the majority of fatalities occurred or death happens. "
   ]
  },
  {
   "cell_type": "code",
   "execution_count": null,
   "metadata": {},
   "outputs": [],
   "source": [
    "data.info()"
   ]
  },
  {
   "cell_type": "markdown",
   "metadata": {},
   "source": [
    "![image13.png](attachment:image13.png)</br>\n",
    "There are no missing values.\n",
    "### Correlation Matrix of the data"
   ]
  },
  {
   "cell_type": "code",
   "execution_count": null,
   "metadata": {},
   "outputs": [],
   "source": [
    "#Examining a correlation matrix of all the features\n",
    "cmap = sns.diverging_palette(275,150,  s=40, l=65, n=9)\n",
    "corrmat = data.corr()\n",
    "plt.subplots(figsize=(18,18))\n",
    "sns.heatmap(corrmat,cmap= cmap,annot=True, square=True);"
   ]
  },
  {
   "cell_type": "markdown",
   "metadata": {},
   "source": [
    "![image20.png](attachment:image20.png)\n",
    "### Strong Positive Correlation\n",
    "\n",
    "- Insight: Variables move in the same direction.\n",
    "\n",
    "- Takeaway: Changes in one variable are likely to be associated with similar changes in the other.\n",
    "\n",
    "### Strong Negative Correlation\n",
    "\n",
    "- Insight: Variables move in opposite directions.\n",
    "\n",
    "- Takeaway: Changes in one variable are likely to be associated with contrary changes in the other.\n",
    "\n",
    "### Correlation Close to 1 or -1:\n",
    "\n",
    "\n",
    "- Insight: Strong linear relationship.\n",
    "\n",
    "- Takeaway: Changes in one variable can be predicted with a high degree of certainty based on the other.\n",
    "### Notable points:\n",
    "- Time of the patient's follow-up visit for the disease is crucial as initial diagnosis with cardiovascular issues and treatment reduces the chances of any fatality. It holds an inverse relation.\n",
    "- Ejection fraction is the second most important feature. It is quite expected as it is basically the efficiency of the heart.\n",
    "- Age of the patient is the third most correlated feature. Clearly as heart's functioning declines with aging\n",
    "- With this bar plot identify the highest and lowest values. Compare the magnitudes of different categories. Look for patterns or trends.\n",
    "- We understand with this that mostly 50 to 70 years old people mostly prone to heart diseas."
   ]
  },
  {
   "cell_type": "code",
   "execution_count": null,
   "metadata": {},
   "outputs": [],
   "source": [
    "#Evaluating age distribution\n",
    "plt.figure(figsize=(20,12))\n",
    "#colors =[\"#774571\",\"#b398af\",\"#f1f1f1\" ,\"#afcdc7\", \"#6daa9f\"]\n",
    "Days_of_week=sns.countplot(x=data['age'],data=data, hue =\"DEATH_EVENT\",palette = cols)\n",
    "Days_of_week.set_title(\"Distribution Of Age\", color=\"#774571\")"
   ]
  },
  {
   "cell_type": "markdown",
   "metadata": {},
   "source": [
    "![image19.png](attachment:image19.png)</br>\n",
    "### Outlier Analysis\n",
    "Now we look for outliers using boxplot if any outlier found there should be remove that outlier."
   ]
  },
  {
   "cell_type": "code",
   "execution_count": null,
   "metadata": {},
   "outputs": [],
   "source": [
    "# Boxen and swarm plot of some non binary features.\n",
    "feature = [\"age\",\"creatinine_phosphokinase\",\"ejection_fraction\",\"platelets\",\"serum_creatinine\",\"serum_sodium\", \"time\"]\n",
    "for i in feature:\n",
    "    plt.figure(figsize=(8,8))\n",
    "    sns.swarmplot(x=data[\"DEATH_EVENT\"], y=data[i], color=\"black\", alpha=0.5)\n",
    "    sns.boxenplot(x=data[\"DEATH_EVENT\"], y=data[i], palette=cols)\n",
    "    plt.show()"
   ]
  },
  {
   "cell_type": "markdown",
   "metadata": {},
   "source": [
    "![image11.png](attachment:image11.png) ![image14.png](attachment:image14.png) ![image16.png](attachment:image16.png) ![image8.png](attachment:image8.png)</br>\n",
    "<b>Outliers: Individual points beyond the interquartile range can be identified as outliers.</b>"
   ]
  },
  {
   "cell_type": "code",
   "execution_count": null,
   "metadata": {},
   "outputs": [],
   "source": [
    "sns.kdeplot(x=data[\"age\"], y=None, hue =data[\"DEATH_EVENT\"], palette=cols)"
   ]
  },
  {
   "cell_type": "markdown",
   "metadata": {},
   "source": [
    "![image12.png](attachment:image12.png)</br>\n",
    "- This KDE plot visualizes the distribution of death events, highlighting the age at which the majority of fatalities occurred or death happens. "
   ]
  },
  {
   "cell_type": "markdown",
   "metadata": {},
   "source": [
    "## Data processing \n",
    "- Assigning values to features as X and target as y\n",
    "- Perform the scaling of the features\n",
    "- Split test and training sets"
   ]
  },
  {
   "cell_type": "code",
   "execution_count": null,
   "metadata": {},
   "outputs": [],
   "source": [
    "# ssigning values to features as X and target as y\n",
    "\n",
    "X=data.drop([\"DEATH_EVENT\"],axis=1)\n",
    "y=data[\"DEATH_EVENT\"]\n",
    "\n",
    "# Set up a standard scaler for the features\n",
    "\n",
    "col_names = list(X.columns)\n",
    "s_scaler = preprocessing.StandardScaler()\n",
    "X_df= s_scaler.fit_transform(X)\n",
    "X_df = pd.DataFrame(X_df, columns=col_names)  \n",
    "X_df.describe().T\n",
    "\n",
    "# Now splitting in train and test data\n",
    "\n",
    "X_train, X_test, y_train,y_test = train_test_split(X_df,y,test_size=0.25,random_state=7)\n",
    "\n",
    "\n",
    "# Initializing the ANN model \n",
    "\n",
    "model = Sequential()\n",
    "\n",
    "\n",
    "# layers\n",
    "\n",
    "model.add(Dense(units = 16, kernel_initializer = 'uniform', activation = 'relu', input_dim = 12))\n",
    "model.add(Dense(units = 8, kernel_initializer = 'uniform', activation = 'relu'))\n",
    "model.add(Dropout(0.25))\n",
    "model.add(Dense(units = 4, kernel_initializer = 'uniform', activation = 'relu'))\n",
    "model.add(Dropout(0.5))\n",
    "model.add(Dense(units = 1, kernel_initializer = 'uniform', activation = 'sigmoid'))\n",
    "from keras.optimizers import SGD\n",
    "# Compiling the ANN\n",
    "model.compile(optimizer = 'adam', loss = 'mean_squared_error', metrics = ['accuracy'])\n",
    "\n",
    "\n",
    "# Train the ANN\n",
    "history = model.fit(X_train, y_train, batch_size = 32, epochs = 500, validation_split=0.2)\n"
   ]
  },
  {
   "cell_type": "markdown",
   "metadata": {},
   "source": [
    "![image7.png](attachment:image7.png)</br>\n",
    "### For this binary classification model\n",
    "- We used four hidden layers, with Uniform distribution or Gaussian distribution kernels initializer\n",
    "- First three layers we have used activation function is ReLU \n",
    "- Last hidden we used sigmoid with the adam optimization and mean_squared_error loss  function \n",
    "### Validation vs Training accuracy"
   ]
  },
  {
   "cell_type": "code",
   "execution_count": null,
   "metadata": {},
   "outputs": [],
   "source": [
    "history_df = pd.DataFrame(history.history)\n",
    "\n",
    "plt.plot(history_df.loc[:, ['accuracy']], \"#6daa9f\", label='Training accuracy')\n",
    "plt.plot(history_df.loc[:, ['val_accuracy']], \"#774571\", label='Validation accuracy')\n",
    "\n",
    "plt.title('Training and Validation accuracy')\n",
    "plt.xlabel('Epochs')\n",
    "plt.ylabel('Accuracy')\n",
    "plt.legend()\n",
    "plt.show()\n",
    "\n",
    "# Validation Accuracy \n",
    "val_accuracy = np.mean(history.history['val_accuracy'])\n",
    "print(\"\\n%s: %.2f%%\" % ('val_accuracy', val_accuracy*100))\n"
   ]
  }
 ],
 "metadata": {
  "kernelspec": {
   "display_name": "Python 3",
   "language": "python",
   "name": "python3"
  },
  "language_info": {
   "name": "python",
   "version": "3.12.0"
  }
 },
 "nbformat": 4,
 "nbformat_minor": 2
}
