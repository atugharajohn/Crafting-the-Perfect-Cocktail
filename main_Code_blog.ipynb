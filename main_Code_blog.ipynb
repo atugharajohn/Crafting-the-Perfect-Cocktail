{
 "cells": [
  {
   "cell_type": "markdown",
   "metadata": {},
   "source": [
    "## Model Implementation and validation Code:\n",
    "\n",
    "### Import Necessary Libraries"
   ]
  },
  {
   "cell_type": "markdown",
   "metadata": {},
   "source": [
    "## Performing Exploratory Analysis: \n",
    "It's important to explore the data and do basic analysis to understand the characteristic and form opinion / understanding of the data\n",
    "\n",
    "### Data Structure:"
   ]
  },
  {
   "cell_type": "code",
   "execution_count": null,
   "metadata": {},
   "outputs": [],
   "source": [
    "data.info()"
   ]
  },
  {
   "cell_type": "markdown",
   "metadata": {},
   "source": [
    "![image13.png](attachment:image13.png)</br>\n",
    "There are no missing values.\n",
    "### Correlation Matrix of the data"
   ]
  },
  {
   "cell_type": "code",
   "execution_count": null,
   "metadata": {},
   "outputs": [],
   "source": [
    "#Examining a correlation matrix of all the features\n",
    "cmap = sns.diverging_palette(275,150,  s=40, l=65, n=9)\n",
    "corrmat = data.corr()\n",
    "plt.subplots(figsize=(18,18))\n",
    "sns.heatmap(corrmat,cmap= cmap,annot=True, square=True);"
   ]
  },
  {
   "cell_type": "markdown",
   "metadata": {},
   "source": [
    "![image20.png](attachment:image20.png)\n",
    "### Strong Positive Correlation\n",
    "\n",
    "- Insight: Variables move in the same direction.\n",
    "\n",
    "- Takeaway: Changes in one variable are likely to be associated with similar changes in the other.\n",
    "\n",
    "### Strong Negative Correlation\n",
    "\n",
    "- Insight: Variables move in opposite directions.\n",
    "\n",
    "- Takeaway: Changes in one variable are likely to be associated with contrary changes in the other.\n",
    "\n",
    "### Correlation Close to 1 or -1:\n",
    "\n",
    "\n",
    "- Insight: Strong linear relationship.\n",
    "\n",
    "- Takeaway: Changes in one variable can be predicted with a high degree of certainty based on the other.\n",
    "### Notable points:\n",
    "- Time of the patient's follow-up visit for the disease is crucial as initial diagnosis with cardiovascular issues and treatment reduces the chances of any fatality. It holds an inverse relation.\n",
    "- Ejection fraction is the second most important feature. It is quite expected as it is basically the efficiency of the heart.\n",
    "- Age of the patient is the third most correlated feature. Clearly as heart's functioning declines with aging\n",
    "- With this bar plot identify the highest and lowest values. Compare the magnitudes of different categories. Look for patterns or trends.\n",
    "- We understand with this that mostly 50 to 70 years old people mostly prone to heart diseas."
   ]
  },
  {
   "cell_type": "code",
   "execution_count": null,
   "metadata": {},
   "outputs": [],
   "source": [
    "import numpy as np\n",
    "import pandas as pd\n",
    "import matplotlib.pyplot as plt\n",
    "from sklearn import preprocessing\n",
    "from sklearn.preprocessing import StandardScaler\n",
    "from sklearn.model_selection import train_test_split\n",
    "import seaborn as sns\n",
    "from keras.layers import Dense, BatchNormalization, Dropout\n",
    "from keras.models import Sequential\n",
    "from keras.utils import to_categorical\n",
    "from sklearn.metrics import precision_score, recall_score, confusion_matrix, classification_report, accuracy_score, f1_score"
   ]
  }
 ],
 "metadata": {
  "kernelspec": {
   "display_name": "Python 3",
   "language": "python",
   "name": "python3"
  },
  "language_info": {
   "name": "python",
   "version": "3.12.0"
  }
 },
 "nbformat": 4,
 "nbformat_minor": 2
}
